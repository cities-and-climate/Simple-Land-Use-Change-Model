{
 "cells": [
  {
   "cell_type": "code",
   "execution_count": 1,
   "metadata": {},
   "outputs": [],
   "source": [
    "import rasterio\n",
    "import numpy as np\n",
    "import random\n",
    "import time\n",
    "from numba import njit\n",
    "from numba.typed import Dict\n",
    "import utils"
   ]
  },
  {
   "cell_type": "markdown",
   "metadata": {},
   "source": [
    "# Calibration"
   ]
  },
  {
   "cell_type": "markdown",
   "metadata": {},
   "source": [
    "### Inputs & Parameters"
   ]
  },
  {
   "cell_type": "code",
   "execution_count": 53,
   "metadata": {},
   "outputs": [],
   "source": [
    "date_ini = '1994'\n",
    "date_fin = '2003'\n",
    "\n",
    "urban_path_ini = 'Inputs/urban2012_roads.gif'\n",
    "urban_path_fin = 'Inputs/urban2017_roads.gif'\n",
    "path_roads = 'Inputs/roads_12_mod.tif'\n",
    "excluded_areas_path = 'Inputs/excluded.gif'"
   ]
  },
  {
   "cell_type": "markdown",
   "metadata": {},
   "source": [
    "### Reading inputs and estimating new urbanisation"
   ]
  },
  {
   "cell_type": "code",
   "execution_count": 54,
   "metadata": {},
   "outputs": [],
   "source": [
    "# Urban Areas\n",
    "urban_ini = rasterio.open(urban_path_ini).read(1)\n",
    "urban_fin = rasterio.open(urban_path_fin).read(1)\n",
    "\n",
    "diff_urb = urban_fin - urban_ini\n",
    "new_urb_index = np.where(diff_urb==255)\n",
    "new_urb_index = [(a,b) for a,b in zip(new_urb_index[0],new_urb_index[1])]\n",
    "new_urbanisation = len(new_urb_index)\n",
    "\n",
    "# Roads\n",
    "roads = rasterio.open(path_roads).read(1)\n",
    "\n",
    "# Raster Profile\n",
    "raster_profile = rasterio.open(urban_path_ini).profile"
   ]
  },
  {
   "cell_type": "markdown",
   "metadata": {},
   "source": [
    "### Candidate Cells for Growth"
   ]
  },
  {
   "cell_type": "code",
   "execution_count": 55,
   "metadata": {},
   "outputs": [],
   "source": [
    "candidate_cells = utils.create_growth_candidate_cells(urban_ini,roads,255,255,5,[],0)\n",
    "\n",
    "edge_growth_cells = candidate_cells[0]\n",
    "spread_growth_cells = candidate_cells[1]\n",
    "road_growth_cells = candidate_cells[2]\n",
    "spont_growth_cells = candidate_cells[3]"
   ]
  },
  {
   "cell_type": "markdown",
   "metadata": {},
   "source": [
    "### Assigning new urban cells to each type of growth"
   ]
  },
  {
   "cell_type": "code",
   "execution_count": 56,
   "metadata": {},
   "outputs": [],
   "source": [
    "new_edge = len(edge_growth_cells) - len(list(set(edge_growth_cells) - set(new_urb_index)))\n",
    "new_road = len(road_growth_cells) - len(list(set(road_growth_cells) - set(new_urb_index)))\n",
    "new_spread = len(spread_growth_cells) - len(list(set(spread_growth_cells) - set(new_urb_index)))\n",
    "new_spont = len(spont_growth_cells) - len(list(set(spont_growth_cells) - set(new_urb_index)))\n",
    "\n",
    "edge_coef = new_edge/new_urbanisation\n",
    "road_coef = new_road/new_urbanisation\n",
    "spread_coef = new_spread/new_urbanisation\n",
    "spont_coef = new_spont/new_urbanisation"
   ]
  },
  {
   "cell_type": "code",
   "execution_count": 57,
   "metadata": {},
   "outputs": [
    {
     "name": "stdout",
     "output_type": "stream",
     "text": [
      "Edge_G: 0.93 ,  Road_G: 0.0 ,  Spread_G: 0.04 ,  Spont_G: 0.02 New urbanisation: 4236\n"
     ]
    }
   ],
   "source": [
    "print('Edge_G:', np.round(new_edge/new_urbanisation,2),', ','Road_G:',np.round(new_road/new_urbanisation,2),', ',\n",
    "      'Spread_G:',np.round(new_spread/new_urbanisation,2),', ','Spont_G:', np.round(new_spont/new_urbanisation,2),\n",
    "      'New urbanisation:', new_urbanisation)"
   ]
  }
 ],
 "metadata": {
  "kernelspec": {
   "display_name": "Python [conda env:GDAL]",
   "language": "python",
   "name": "conda-env-GDAL-py"
  },
  "language_info": {
   "codemirror_mode": {
    "name": "ipython",
    "version": 3
   },
   "file_extension": ".py",
   "mimetype": "text/x-python",
   "name": "python",
   "nbconvert_exporter": "python",
   "pygments_lexer": "ipython3",
   "version": "3.6.10"
  }
 },
 "nbformat": 4,
 "nbformat_minor": 4
}
