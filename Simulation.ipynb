{
 "cells": [
  {
   "cell_type": "code",
   "execution_count": 1,
   "metadata": {},
   "outputs": [],
   "source": [
    "import rasterio\n",
    "import numpy as np\n",
    "import random\n",
    "import time\n",
    "from numba import njit\n",
    "from numba.typed import Dict\n",
    "from utils import *\n",
    "from simulation import *\n",
    "import logging"
   ]
  },
  {
   "cell_type": "markdown",
   "metadata": {},
   "source": [
    "### Inputs & Parameters"
   ]
  },
  {
   "cell_type": "code",
   "execution_count": 2,
   "metadata": {},
   "outputs": [],
   "source": [
    "# Date\n",
    "date_ini = '1994'\n",
    "date_fin = '2017'\n",
    "\n",
    "# Paths of Input files\n",
    "urban_path_ini = 'Inputs/urban1994_roads.gif'\n",
    "urban_path_fin = 'Inputs/urban1994_roads.gif'\n",
    "path_roads = 'Inputs/roads_94_mod.tif'\n",
    "excluded_areas_path = 'Inputs/excluded.gif'\n",
    "outside_boundaries_path = 'Inputs/outside_boundaries.tif'\n",
    "\n",
    "# Objectifs Urbanization\n",
    "objectif_urba = 1000\n",
    "edge_growth,spont_growth,spread_growth,road_growth = 86,7,6,1"
   ]
  },
  {
   "cell_type": "markdown",
   "metadata": {},
   "source": [
    "### Reading inputs and estimating new urbanisation\n"
   ]
  },
  {
   "cell_type": "code",
   "execution_count": 3,
   "metadata": {},
   "outputs": [],
   "source": [
    "# Urban Areas\n",
    "urban_ini = rasterio.open(urban_path_ini).read(1)\n",
    "urban_fin = rasterio.open(urban_path_fin).read(1)\n",
    "\n",
    "diff_urb = urban_fin - urban_ini\n",
    "new_urb_index = np.where(diff_urb==255)\n",
    "new_urb_index = [(a,b) for a,b in zip(new_urb_index[0],new_urb_index[1])]\n",
    "new_urbanisation = len(new_urb_index)\n",
    "\n",
    "# Roads\n",
    "roads = rasterio.open(path_roads).read(1)\n",
    "\n",
    "# Excluded Areas\n",
    "excluded_areas = rasterio.open(excluded_areas_path).read(1)\n",
    "excluded_areas_index = np.where(excluded_areas==255)\n",
    "excluded_areas_index = [(a,b) for a,b in zip(excluded_areas_index[0],excluded_areas_index[1])]\n",
    "\n",
    "x,y = excluded_areas.shape\n",
    "index_uni = list(range(x*y))\n",
    "index_double = [(a,b) for a in range(x) for  b in range(y)]\n",
    "\n",
    "dict_double_uni = dict(zip(index_double,index_uni))\n",
    "dict_uni_double = dict(zip(index_uni,index_double))\n",
    "\n",
    "index_exclu_1d = [dict_double_uni[x] for x in excluded_areas_index]\n",
    "index_exclu_1d_arr = np.array(index_exclu_1d)\n",
    "\n",
    "# Outside Boundaries\n",
    "\n",
    "raster = rasterio.open(outside_boundaries_path).read(1)\n",
    "outside_boundaries = np.where(raster==0)\n",
    "outside_boundaries_index = [(outside_boundaries[0][i],outside_boundaries[1][i]) for i in range(len(outside_boundaries[0]))]\n",
    "\n",
    "# Raster Profile\n",
    "raster_profile = rasterio.open(urban_path_ini).profile\n",
    "\n",
    "# Ecluded + Outside Areas\n",
    "\n",
    "exclu_outside_index = excluded_areas_index.copy()\n",
    "exclu_outside_index.extend(outside_boundaries_index)\n",
    "\n",
    "# Indexes\n",
    "x,y = urban_ini.shape\n",
    "index_uni = np.array(list(range(x*y)))\n",
    "index_double = np.array([(a,b) for a in range(x) for  b in range(y)])"
   ]
  },
  {
   "cell_type": "markdown",
   "metadata": {},
   "source": [
    "### Candidate Cells for Urbanization"
   ]
  },
  {
   "cell_type": "code",
   "execution_count": 4,
   "metadata": {},
   "outputs": [],
   "source": [
    "edge_growth_cells,spread_growth_cells = create_edge_spread_poll(urban_ini,255,1)\n",
    "edge_growth_cells = list(set(edge_growth_cells) - set(exclu_outside_index))\n",
    "spread_growth_cells = list(set(spread_growth_cells) - set(exclu_outside_index))\n",
    "\n",
    "road_growth_cells = create_road_poll(roads,urban_ini,255,exclu_outside_index,edge_growth_cells,spread_growth_cells)\n",
    "spont_growth_cells = create_spont_poll(urban_ini,0,edge_growth_cells,road_growth_cells,spread_growth_cells,exclu_outside_index)\n",
    "\n",
    "edge_growth_cells_da = tuple_to_double_arr(edge_growth_cells)\n",
    "spread_growth_cells_da = tuple_to_double_arr(spread_growth_cells)\n",
    "road_growth_cells_da = tuple_to_double_arr(road_growth_cells)\n",
    "spont_growth_cells_da = tuple_to_double_arr(spont_growth_cells)"
   ]
  },
  {
   "cell_type": "markdown",
   "metadata": {},
   "source": [
    "### Create Order of Urbanization"
   ]
  },
  {
   "cell_type": "code",
   "execution_count": 9,
   "metadata": {},
   "outputs": [],
   "source": [
    "objectif_urba = 23000\n",
    "nb_cells_edge = int(objectif_urba * edge_growth / 100)\n",
    "nb_cells_road = int(objectif_urba * road_growth / 100)\n",
    "nb_cells_spread = int(objectif_urba * spread_growth / 100)\n",
    "nb_cells_spont = int(objectif_urba * spont_growth / 100)\n",
    "\n",
    "order_urbanization = np.ones(nb_cells_edge)\n",
    "order_urbanization = np.append(order_urbanization, 2 * np.ones(nb_cells_spread))\n",
    "order_urbanization = np.append(order_urbanization, 3 * np.ones(nb_cells_road))\n",
    "order_urbanization = np.append(order_urbanization, 4 * np.ones(nb_cells_spont))\n",
    "order_urbanization = order_urbanization.astype('int8')\n",
    "np.random.shuffle(order_urbanization)"
   ]
  },
  {
   "cell_type": "code",
   "execution_count": 10,
   "metadata": {},
   "outputs": [],
   "source": [
    "evo_candidate_cells = urban_ini.copy()\n",
    "evo_candidate_cells[edge_growth_cells_da] = 1\n",
    "evo_candidate_cells[spread_growth_cells_da] = 2\n",
    "evo_candidate_cells[road_growth_cells_da] = 3\n",
    "evo_candidate_cells[spont_growth_cells_da] = 4\n",
    "\n",
    "initial_urba = np.where(urban_ini.reshape(x*y)==255)[0]\n"
   ]
  },
  {
   "cell_type": "markdown",
   "metadata": {},
   "source": [
    "## Simulation and Outputs"
   ]
  },
  {
   "cell_type": "code",
   "execution_count": 11,
   "metadata": {},
   "outputs": [],
   "source": [
    "new_urb = simulation_numba(evo_candidate_cells,initial_urba,order_urbanization,1,index_exclu_1d_arr,index_uni,index_double)\n",
    "new_urb_tuple = index_double[new_urb]"
   ]
  },
  {
   "cell_type": "code",
   "execution_count": 25,
   "metadata": {},
   "outputs": [],
   "source": [
    "urb_fin = urban_ini.copy()\n",
    "ea,eb = [a[0] for a in new_urb_tuple],[a[1] for a in new_urb_tuple]\n",
    "urb_fin[ea,eb] = 100"
   ]
  },
  {
   "cell_type": "code",
   "execution_count": 26,
   "metadata": {},
   "outputs": [],
   "source": [
    "out = 'Test_23000.gif'\n",
    "with rasterio.open(out,'w', **raster_profile) as dst:\n",
    "    dst.write(urb_fin.reshape(1,1254,1548))"
   ]
  }
 ],
 "metadata": {
  "kernelspec": {
   "display_name": "Python [conda env:Anaconda3-GDAL]",
   "language": "python",
   "name": "conda-env-Anaconda3-GDAL-py"
  },
  "language_info": {
   "codemirror_mode": {
    "name": "ipython",
    "version": 3
   },
   "file_extension": ".py",
   "mimetype": "text/x-python",
   "name": "python",
   "nbconvert_exporter": "python",
   "pygments_lexer": "ipython3",
   "version": "3.6.10"
  }
 },
 "nbformat": 4,
 "nbformat_minor": 4
}
