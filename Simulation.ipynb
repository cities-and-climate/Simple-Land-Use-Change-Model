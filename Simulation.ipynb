{
 "cells": [
  {
   "cell_type": "code",
   "execution_count": 11,
   "metadata": {},
   "outputs": [],
   "source": [
    "import rasterio\n",
    "import numpy as np\n",
    "import random\n",
    "import time\n",
    "from numba import njit\n",
    "import utils"
   ]
  },
  {
   "cell_type": "markdown",
   "metadata": {},
   "source": [
    "### Inputs & Parameters"
   ]
  },
  {
   "cell_type": "code",
   "execution_count": 18,
   "metadata": {},
   "outputs": [],
   "source": [
    "# Date\n",
    "date_ini = '2017'\n",
    "date_fin = '2017'\n",
    "\n",
    "# Paths of Input files\n",
    "urban_path_ini = 'Inputs/urban2017_roads.gif'\n",
    "path_roads = 'Inputs/roads_17_mod.tif'\n",
    "excluded_areas_path = 'Inputs/excluded.gif'\n",
    "outside_boundaries_path = 'Inputs/outside_boundaries.tif'\n",
    "\n",
    "# Objectifs Urbanization\n",
    "objectif_urba =  24004    \n",
    "edge_growth,spread_growth,road_growth,spont_growth = 93,4,1,2"
   ]
  },
  {
   "cell_type": "markdown",
   "metadata": {},
   "source": [
    "### Reading inputs and estimating new urbanisation\n"
   ]
  },
  {
   "cell_type": "code",
   "execution_count": 19,
   "metadata": {},
   "outputs": [],
   "source": [
    "# Urban Areas\n",
    "urban_ini = rasterio.open(urban_path_ini).read(1)\n",
    "\n",
    "# Indexes\n",
    "x,y = urban_ini.shape\n",
    "index_uni = np.array(list(range(x*y)))\n",
    "index_double = [(a,b) for a in range(x) for  b in range(y)]\n",
    "index_double_array = np.array(index_double)\n",
    "\n",
    "# Roads\n",
    "roads = rasterio.open(path_roads).read(1)\n",
    "\n",
    "# Excluded Areas\n",
    "excluded_areas = rasterio.open(excluded_areas_path).read(1)\n",
    "excluded_areas_index = np.where(excluded_areas==255)\n",
    "excluded_areas_index = [(a,b) for a,b in zip(excluded_areas_index[0],excluded_areas_index[1])]\n",
    "\n",
    "\n",
    "dict_double_uni = dict(zip(index_double,index_uni))\n",
    "dict_uni_double = dict(zip(index_uni,index_double))\n",
    "\n",
    "index_exclu_1d = [dict_double_uni[x] for x in excluded_areas_index]\n",
    "index_exclu_1d_array = np.array(index_exclu_1d)\n",
    "\n",
    "# Outside Boundaries\n",
    "\n",
    "raster = rasterio.open(outside_boundaries_path).read(1)\n",
    "outside_boundaries = np.where(raster==0)\n",
    "outside_boundaries_index = [(outside_boundaries[0][i],outside_boundaries[1][i]) for i in range(len(outside_boundaries[0]))]\n",
    "\n",
    "# Raster Profile\n",
    "raster_profile = rasterio.open(urban_path_ini).profile\n",
    "\n",
    "# Ecluded + Outside Areas\n",
    "\n",
    "exclu_outside_index = excluded_areas_index.copy()\n",
    "exclu_outside_index.extend(outside_boundaries_index)\n",
    "\n"
   ]
  },
  {
   "cell_type": "markdown",
   "metadata": {},
   "source": [
    "### Candidate Cells for Urbanization"
   ]
  },
  {
   "cell_type": "code",
   "execution_count": 20,
   "metadata": {},
   "outputs": [],
   "source": [
    "candidate_cells = utils.create_growth_candidate_cells(urban_ini,roads,255,255,1,exclu_outside_index,0)\n",
    "\n",
    "edge_growth_cells_da = utils.tuple_to_double_arr(candidate_cells[0])\n",
    "spread_growth_cells_da = utils.tuple_to_double_arr(candidate_cells[1])\n",
    "road_growth_cells_da = utils.tuple_to_double_arr(candidate_cells[2])\n",
    "spont_growth_cells_da = utils.tuple_to_double_arr(candidate_cells[3])"
   ]
  },
  {
   "cell_type": "markdown",
   "metadata": {},
   "source": [
    "### Create Order of Urbanization"
   ]
  },
  {
   "cell_type": "code",
   "execution_count": 21,
   "metadata": {},
   "outputs": [],
   "source": [
    "nb_cells_edge = int(objectif_urba * edge_growth / 100)\n",
    "nb_cells_road = int(objectif_urba * road_growth / 100)\n",
    "nb_cells_spread = int(objectif_urba * spread_growth / 100)\n",
    "nb_cells_spont = int(objectif_urba * spont_growth / 100)\n",
    "\n",
    "order_urbanization = np.ones(nb_cells_edge)\n",
    "order_urbanization = np.append(order_urbanization, 2 * np.ones(nb_cells_spread))\n",
    "order_urbanization = np.append(order_urbanization, 3 * np.ones(nb_cells_road))\n",
    "order_urbanization = np.append(order_urbanization, 4 * np.ones(nb_cells_spont))\n",
    "order_urbanization = order_urbanization.astype('int8')\n",
    "np.random.shuffle(order_urbanization)"
   ]
  },
  {
   "cell_type": "code",
   "execution_count": 22,
   "metadata": {},
   "outputs": [],
   "source": [
    "evo_candidate_cells = urban_ini.copy()\n",
    "evo_candidate_cells[edge_growth_cells_da] = 1\n",
    "evo_candidate_cells[spread_growth_cells_da] = 2\n",
    "evo_candidate_cells[road_growth_cells_da] = 3\n",
    "evo_candidate_cells[spont_growth_cells_da] = 4\n",
    "\n",
    "initial_urba = np.where(urban_ini.reshape(x*y)==255)[0]\n"
   ]
  },
  {
   "cell_type": "markdown",
   "metadata": {},
   "source": [
    "## Simulation and Outputs"
   ]
  },
  {
   "cell_type": "code",
   "execution_count": 23,
   "metadata": {},
   "outputs": [],
   "source": [
    "new_urban_cells = np.empty(len(order_urbanization))\n",
    "new_urban_cells = utils.simulation_numba(evo_candidate_cells,initial_urba,order_urbanization,1,index_exclu_1d_array,index_double_array)\n",
    "new_urb_tuple = index_double_array[new_urban_cells]\n",
    "\n",
    "urb_fin = urban_ini.copy()\n",
    "ea,eb = [a[0] for a in new_urb_tuple],[a[1] for a in new_urb_tuple]\n",
    "urb_fin[ea,eb] = 255\n",
    "\n",
    "out = 'Output/Simu_%s_%s.gif'%(date_ini,objectif_urba)\n",
    "with rasterio.open(out,'w', **raster_profile) as dst:\n",
    "    dst.write(urb_fin.reshape(1,1254,1548))"
   ]
  }
 ],
 "metadata": {
  "kernelspec": {
   "display_name": "Python [conda env:Anaconda3-GDAL]",
   "language": "python",
   "name": "conda-env-Anaconda3-GDAL-py"
  },
  "language_info": {
   "codemirror_mode": {
    "name": "ipython",
    "version": 3
   },
   "file_extension": ".py",
   "mimetype": "text/x-python",
   "name": "python",
   "nbconvert_exporter": "python",
   "pygments_lexer": "ipython3",
   "version": "3.6.10"
  }
 },
 "nbformat": 4,
 "nbformat_minor": 4
}
