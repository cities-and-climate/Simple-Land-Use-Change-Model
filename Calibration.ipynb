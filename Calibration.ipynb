{
 "cells": [
  {
   "cell_type": "code",
   "execution_count": 1,
   "metadata": {},
   "outputs": [],
   "source": [
    "import rasterio\n",
    "import numpy as np\n",
    "import random\n",
    "import time\n",
    "from numba import njit\n",
    "from numba.typed import Dict\n",
    "from utils import *"
   ]
  },
  {
   "cell_type": "markdown",
   "metadata": {},
   "source": [
    "# Calibration"
   ]
  },
  {
   "cell_type": "markdown",
   "metadata": {},
   "source": [
    "### Inputs & Parameters"
   ]
  },
  {
   "cell_type": "code",
   "execution_count": 2,
   "metadata": {},
   "outputs": [],
   "source": [
    "date_ini = '1982'\n",
    "data_fin = '1994'\n",
    "\n",
    "urban_path_ini = 'Inputs/urban1982_roads.gif'\n",
    "urban_path_fin = 'Inputs/urban1994_roads.gif'\n",
    "path_roads = 'Inputs/roads_82_mod.tif'\n",
    "excluded_areas_path = 'Inputs/excluded.gif'"
   ]
  },
  {
   "cell_type": "markdown",
   "metadata": {},
   "source": [
    "### Reading inputs and estimating new urbanisation"
   ]
  },
  {
   "cell_type": "code",
   "execution_count": 3,
   "metadata": {},
   "outputs": [],
   "source": [
    "# Urban Areas\n",
    "urban_ini = rasterio.open(urban_path_ini).read(1)\n",
    "urban_fin = rasterio.open(urban_path_fin).read(1)\n",
    "\n",
    "diff_urb = urban_fin - urban_ini\n",
    "new_urb_index = np.where(diff_urb==255)\n",
    "new_urb_index = [(a,b) for a,b in zip(new_urb_index[0],new_urb_index[1])]\n",
    "new_urbanisation = len(new_urb_index)\n",
    "\n",
    "# Roads\n",
    "roads = rasterio.open(path_roads).read(1)\n",
    "\n",
    "# # Excluded Areas\n",
    "# excluded = rasterio.open(excluded_areas_path).read(1)\n",
    "# excluded_index = np.where(excluded==255)\n",
    "# excluded_index = [(a,b) for a,b in zip(excluded_index[0],excluded_index[1])]\n",
    "\n",
    "# Raster Profile\n",
    "raster_profile = rasterio.open(urban_path_ini).profile"
   ]
  },
  {
   "cell_type": "markdown",
   "metadata": {},
   "source": [
    "### Candidate Cells for Growth"
   ]
  },
  {
   "cell_type": "code",
   "execution_count": 4,
   "metadata": {},
   "outputs": [],
   "source": [
    "edge_growth_cells,spread_growth_cells = create_edge_spread_poll(urban_ini,255,5)\n",
    "road_growth_cells = create_road_poll(roads,urban_ini,255,[],edge_growth_cells,spread_growth_cells)\n",
    "\n",
    "spont_growth_cells = create_spont_poll(urban_ini,0,edge_growth_cells,road_growth_cells,spread_growth_cells,[])"
   ]
  },
  {
   "cell_type": "markdown",
   "metadata": {},
   "source": [
    "### Assigning new urban cells to each type of growth"
   ]
  },
  {
   "cell_type": "code",
   "execution_count": 5,
   "metadata": {},
   "outputs": [],
   "source": [
    "new_edge = len(edge_growth_cells) - len(list(set(edge_growth_cells) - set(new_urb_index)))\n",
    "new_road = len(road_growth_cells) - len(list(set(road_growth_cells) - set(new_urb_index)))\n",
    "new_spread = len(spread_growth_cells) - len(list(set(spread_growth_cells) - set(new_urb_index)))\n",
    "new_spont = len(spont_growth_cells) - len(list(set(spont_growth_cells) - set(new_urb_index)))\n",
    "\n",
    "edge_coef = new_edge/new_urbanisation\n",
    "road_coef = new_road/new_urbanisation\n",
    "spread_coef = new_spread/new_urbanisation\n",
    "spont_coef = new_spont/new_urbanisation"
   ]
  },
  {
   "cell_type": "code",
   "execution_count": 6,
   "metadata": {},
   "outputs": [
    {
     "name": "stdout",
     "output_type": "stream",
     "text": [
      "Edge_G: 0.87 ,  Road_G: 0.01 ,  Spread_G: 0.06 ,  Spont_G: 0.07\n"
     ]
    }
   ],
   "source": [
    "print('Edge_G:', np.round(new_edge/new_urbanisation,2),', ','Road_G:',np.round(new_road/new_urbanisation,2),', ',\n",
    "      'Spread_G:',np.round(new_spread/new_urbanisation,2),', ','Spont_G:', np.round(new_spont/new_urbanisation,2))"
   ]
  }
 ],
 "metadata": {
  "kernelspec": {
   "display_name": "Python [conda env:GDAL]",
   "language": "python",
   "name": "conda-env-GDAL-py"
  },
  "language_info": {
   "codemirror_mode": {
    "name": "ipython",
    "version": 3
   },
   "file_extension": ".py",
   "mimetype": "text/x-python",
   "name": "python",
   "nbconvert_exporter": "python",
   "pygments_lexer": "ipython3",
   "version": "3.6.10"
  }
 },
 "nbformat": 4,
 "nbformat_minor": 4
}
